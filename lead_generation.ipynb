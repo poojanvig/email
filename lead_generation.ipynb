{
 "cells": [
  {
   "cell_type": "code",
   "execution_count": 41,
   "metadata": {},
   "outputs": [],
   "source": [
    "import requests\n",
    "import pandas as pd\n",
    "url = \"https://api.apollo.io/v1/mixed_people/search\"\n",
    "\n",
    "data = {\n",
    "    \"api_key\": \"jAkdjgnA1MEl6Ra9YvlpIw\",\n",
    "    # \"q_organization_domains\": \"apollo.io\\ngoogle.com\",\n",
    "    \"page\": 1,\n",
    "    \"person_titles\": [\"accountant\", \"chater accountant\"],\n",
    "    \"country\": \"India\",\n",
    "    \"state\": \"India\",   \n",
    "}\n",
    "\n",
    "headers = {\n",
    "    'Cache-Control': 'no-cache',\n",
    "    'Content-Type': 'application/json'\n",
    "}\n",
    "\n",
    "response = requests.request(\"POST\", url, headers=headers, json=data)\n",
    "response_json = response.json() # Parse the JSON content\n",
    "people_details = response_json['people'] # Now, this should work\n",
    "extracted_data = []\n",
    "\n",
    "for person in people_details:\n",
    "    individual_data = {\n",
    "        'Full Name': person['name'],\n",
    "        'Email': person['email'],\n",
    "        'LinkedIn URL': person['linkedin_url'],\n",
    "        'Title': person['title'],\n",
    "        'Organization Name': person['organization']['name'],\n",
    "        'Website URL': person['organization']['website_url'],\n",
    "        'Phone': person['organization'].get('account', {}).get('primary_phone', {}).get('number', None),\n",
    "        'City': person['city'],\n",
    "        'State': person['state'],\n",
    "        'Country': person['country'],\n",
    "        'Departments': ', '.join(person['departments']),\n",
    "    }\n",
    "    extracted_data.append(individual_data)\n",
    "\n",
    "df = pd.DataFrame(extracted_data)\n"
   ]
  },
  {
   "cell_type": "code",
   "execution_count": null,
   "metadata": {},
   "outputs": [],
   "source": []
  },
  {
   "cell_type": "code",
   "execution_count": null,
   "metadata": {},
   "outputs": [],
   "source": []
  },
  {
   "cell_type": "code",
   "execution_count": null,
   "metadata": {},
   "outputs": [],
   "source": []
  },
  {
   "cell_type": "code",
   "execution_count": null,
   "metadata": {},
   "outputs": [],
   "source": []
  }
 ],
 "metadata": {
  "kernelspec": {
   "display_name": "myenv",
   "language": "python",
   "name": "python3"
  },
  "language_info": {
   "codemirror_mode": {
    "name": "ipython",
    "version": 3
   },
   "file_extension": ".py",
   "mimetype": "text/x-python",
   "name": "python",
   "nbconvert_exporter": "python",
   "pygments_lexer": "ipython3",
   "version": "3.9.6"
  },
  "orig_nbformat": 4
 },
 "nbformat": 4,
 "nbformat_minor": 2
}
