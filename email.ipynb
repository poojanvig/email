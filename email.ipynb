{
 "cells": [
  {
   "cell_type": "code",
   "execution_count": 3,
   "metadata": {
    "collapsed": true,
    "ExecuteTime": {
     "end_time": "2023-07-24T18:17:58.952650200Z",
     "start_time": "2023-07-24T18:17:53.820541600Z"
    }
   },
   "outputs": [
    {
     "data": {
      "text/plain": "(221,\n b'2.0.0 closing connection p4-20020a170902bd0400b001ab2b4105ddsm9304351pls.60 - gsmtp')"
     },
     "execution_count": 3,
     "metadata": {},
     "output_type": "execute_result"
    }
   ],
   "source": [
    "import openai\n",
    "import smtplib\n",
    "from email.mime.multipart import MIMEMultipart\n",
    "from email.mime.text import MIMEText\n",
    "from email.mime.base import MIMEBase\n",
    "from email import encoders\n",
    "\n",
    "# Your OpenAI API key\n",
    "openai.api_key = 'api_key'\n",
    "\n",
    "# Create a connection to the SMTP server\n",
    "smtp_server = smtplib.SMTP('smtp.gmail.com', 587)\n",
    "\n",
    "# Start TLS for security\n",
    "smtp_server.starttls()\n",
    "\n",
    "# Authentication\n",
    "smtp_server.login(\"emailid\", \"app_password\")\n",
    "\n",
    "# List of email addresses to send to\n",
    "email_list = ['','']\n",
    "\n",
    "# File to attach\n",
    "file_path = ''  # replace with the path to your file\n",
    "\n",
    "# Loop through the list of emails\n",
    "for email in email_list:\n",
    "    # Generate the email body using the OpenAI API\n",
    "    response = openai.Completion.create(\n",
    "        engine=\"text-davinci-002\",\n",
    "        prompt=\"Generate a sample email body explaining my friends that i have created email automation \",\n",
    "        temperature=0.5,\n",
    "        max_tokens=100\n",
    "    )\n",
    "\n",
    "    # Create the email\n",
    "    msg = MIMEMultipart()\n",
    "    msg['From'] = 'you_email_id'\n",
    "    msg['To'] = email\n",
    "    msg['Subject'] = 'Email automation'\n",
    "    msg.attach(MIMEText(response.choices[0].text.strip(), 'plain'))\n",
    "\n",
    "    # Open the file in bynary mode\n",
    "    binary_file = open(file_path, 'rb')\n",
    "\n",
    "    # Create a MIMEBase object\n",
    "    mime_base = MIMEBase('application', 'octet-stream')\n",
    "\n",
    "    # Add the contents of the attachment to this object\n",
    "    mime_base.set_payload(binary_file.read())\n",
    "\n",
    "    # Encode the data in base64 format\n",
    "    encoders.encode_base64(mime_base)\n",
    "\n",
    "    # Add header\n",
    "    mime_base.add_header('Content-Disposition', f'attachment; filename= {file_path}')\n",
    "\n",
    "    # Attach the MIMEBase object to the email\n",
    "    msg.attach(mime_base)\n",
    "\n",
    "    # Send the email\n",
    "    smtp_server.send_message(msg)\n",
    "\n",
    "    # Close the binary file\n",
    "    binary_file.close()\n",
    "\n",
    "# Close the connection to the SMTP server\n",
    "smtp_server.quit()\n"
   ]
  },
  {
   "cell_type": "code",
   "execution_count": null,
   "outputs": [],
   "source": [],
   "metadata": {
    "collapsed": false
   }
  }
 ],
 "metadata": {
  "kernelspec": {
   "display_name": "Python 3",
   "language": "python",
   "name": "python3"
  },
  "language_info": {
   "codemirror_mode": {
    "name": "ipython",
    "version": 2
   },
   "file_extension": ".py",
   "mimetype": "text/x-python",
   "name": "python",
   "nbconvert_exporter": "python",
   "pygments_lexer": "ipython2",
   "version": "2.7.6"
  }
 },
 "nbformat": 4,
 "nbformat_minor": 0
}
